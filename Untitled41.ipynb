{
  "nbformat": 4,
  "nbformat_minor": 0,
  "metadata": {
    "colab": {
      "name": "Untitled41.ipynb",
      "private_outputs": true,
      "provenance": [],
      "authorship_tag": "ABX9TyNErt6RfeXWNE9r1r2aWHTh",
      "include_colab_link": true
    },
    "kernelspec": {
      "name": "python3",
      "display_name": "Python 3"
    },
    "language_info": {
      "name": "python"
    }
  },
  "cells": [
    {
      "cell_type": "markdown",
      "metadata": {
        "id": "view-in-github",
        "colab_type": "text"
      },
      "source": [
        "<a href=\"https://colab.research.google.com/github/mablus/lena2.0/blob/main/Untitled41.ipynb\" target=\"_parent\"><img src=\"https://colab.research.google.com/assets/colab-badge.svg\" alt=\"Open In Colab\"/></a>"
      ]
    },
    {
      "cell_type": "code",
      "execution_count": null,
      "metadata": {
        "id": "7UpKdynEk9Hs"
      },
      "outputs": [],
      "source": [
        "import matplotlib.pyplot as plt\n",
        "import matplotlib.image as mping\n",
        "import numpy as np\n",
        "\n",
        "img = mping.imread(\"lena.jpg\")\n",
        "imgplot = plt.imshow(img)\n",
        "plt.show()\n",
        "img = np.dot(img[...,:3], [0.2989, 0.5870, 0.1140])\n",
        "plt.imshow(img, cmap = plt.get_cmap(name = 'gray'))\n",
        "mping.imsave(\"lena_gray.jpg\", img)\n"
      ]
    },
    {
      "cell_type": "code",
      "source": [],
      "metadata": {
        "id": "umE9yMyTsNTI"
      },
      "execution_count": null,
      "outputs": []
    },
    {
      "cell_type": "code",
      "source": [
        "img = mping.imread(\"lena.jpg\")\n",
        "imgplot = plt.imshow(img)\n",
        "plt.show()\n",
        "img = np.dot(img[...,:3], [0.2989, 0.5870, 0.1140])\n",
        "plt.imshow(img, cmap = plt.get_cmap(name = 'gray'))\n",
        "mping.imsave(\"lena_gray.jpg\", img)\n",
        "lena_binario = 1 * (img > 170)\n",
        "\n",
        "#Mostrando a imagem binária\n",
        "plt.imshow(lena_binario, cmap = plt.get_cmap(name = 'gray'))"
      ],
      "metadata": {
        "id": "WfmxXepAxd9I"
      },
      "execution_count": null,
      "outputs": []
    }
  ]
}